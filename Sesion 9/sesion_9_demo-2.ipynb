{
 "cells": [
  {
   "cell_type": "markdown",
   "id": "e5277e7f",
   "metadata": {},
   "source": [
    "# Sesión 9 - Demo 2 - Tipos de Archivo."
   ]
  },
  {
   "cell_type": "markdown",
   "id": "2430f0dc",
   "metadata": {},
   "source": [
    "## El módulo ```csv```.\n",
    "\n",
    "El módulo `csv` pertenece a la biblioteca estándar de Python y permite gestionar archivos separados por comas (CSV) o por cualquier otro separador."
   ]
  },
  {
   "cell_type": "code",
   "execution_count": 1,
   "id": "e7efc20b",
   "metadata": {},
   "outputs": [],
   "source": [
    "import csv"
   ]
  }
 ],
 "metadata": {
  "kernelspec": {
   "display_name": "py3",
   "language": "python",
   "name": "python3"
  },
  "language_info": {
   "codemirror_mode": {
    "name": "ipython",
    "version": 3
   },
   "file_extension": ".py",
   "mimetype": "text/x-python",
   "name": "python",
   "nbconvert_exporter": "python",
   "pygments_lexer": "ipython3",
   "version": "3.12.3"
  }
 },
 "nbformat": 4,
 "nbformat_minor": 5
}
