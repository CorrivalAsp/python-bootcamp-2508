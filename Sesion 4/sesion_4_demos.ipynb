{
 "cells": [
  {
   "cell_type": "markdown",
   "id": "f424c887",
   "metadata": {},
   "source": [
    "Sesion 4 - Demos - Iteraciones y ciclos"
   ]
  },
  {
   "cell_type": "markdown",
   "id": "312d51f7",
   "metadata": {},
   "source": [
    "## Demo 1: Bucles básicos\n",
    "Objetivo: Mostrar el uso de bucles for y while para procesar datos"
   ]
  },
  {
   "cell_type": "code",
   "execution_count": null,
   "id": "c91d8910",
   "metadata": {},
   "outputs": [],
   "source": [
    "print(\"=== Demo: Bucles Básicos ===\")\n",
    "    \n",
    "# Ejemplo 1: Bucle for con lista\n",
    "print(\"\\nProcesando ventas diarias:\")\n",
    "ventas_diarias = [120, 150, 80, 200, 95]\n",
    "total = 0\n",
    "    \n",
    "for venta in ventas_diarias:\n",
    "    total += venta\n",
    "    print(f\"Venta: ${venta} | Acumulado: ${total}\")\n",
    "    \n",
    "# Ejemplo 2: Bucle while con contador\n",
    "print(\"\\nConteo regresivo de inventario:\")\n",
    "stock = 5\n",
    "    \n",
    "while stock > 0:\n",
    "    print(f\"Quedan {stock} unidades en stock\")\n",
    "    stock -= 1\n",
    "print(\"¡Inventario agotado!\")"
   ]
  },
  {
   "cell_type": "markdown",
   "id": "3d90cb53",
   "metadata": {},
   "source": [
    "## Demo 2: Técnicas de iteración\n",
    "Objetivo: Mostrar técnicas avanzadas de iteración y control de bucles"
   ]
  },
  {
   "cell_type": "code",
   "execution_count": null,
   "id": "2c73c051",
   "metadata": {},
   "outputs": [],
   "source": [
    "print(\"=== Demo: Técnicas de Iteración ===\")\n",
    "    \n",
    "# Ejemplo 1: Enumerate para índices\n",
    "productos = [\"Laptop\", \"Mouse\", \"Teclado\", \"Monitor\"]\n",
    "print(\"\\nListado de productos:\")\n",
    "    \n",
    "for indice, producto in enumerate(productos, 1):\n",
    "    print(f\"{indice}. {producto}\")\n",
    "    \n",
    "# Ejemplo 2: Break y Continue\n",
    "print(\"\\nBuscando productos en oferta:\")\n",
    "precios = [100, 25, 80, 15, 200, 30]\n",
    "limite_oferta = 50\n",
    "    \n",
    "for precio in precios:\n",
    "    if precio > limite_oferta:\n",
    "        continue\n",
    "    print(f\"¡Oferta encontrada! Precio: ${precio}\")\n",
    "      \n",
    "    if len([p for p in precios if p <= limite_oferta]) >= 3:\n",
    "        print(\"¡Suficientes ofertas encontradas!\")\n",
    "        break"
   ]
  },
  {
   "cell_type": "code",
   "execution_count": null,
   "id": "96981f6c",
   "metadata": {},
   "outputs": [],
   "source": []
  }
 ],
 "metadata": {
  "kernelspec": {
   "display_name": "Python 3",
   "language": "python",
   "name": "python3"
  },
  "language_info": {
   "codemirror_mode": {
    "name": "ipython",
    "version": 3
   },
   "file_extension": ".py",
   "mimetype": "text/x-python",
   "name": "python",
   "nbconvert_exporter": "python",
   "pygments_lexer": "ipython3",
   "version": "3.12.1"
  }
 },
 "nbformat": 4,
 "nbformat_minor": 5
}
