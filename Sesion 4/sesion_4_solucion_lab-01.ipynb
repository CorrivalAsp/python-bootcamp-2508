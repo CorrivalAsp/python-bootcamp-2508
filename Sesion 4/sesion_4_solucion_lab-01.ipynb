{
 "cells": [
  {
   "cell_type": "markdown",
   "id": "1a78e67d",
   "metadata": {},
   "source": [
    "## Sesión 4 - Laboratorio 1: Procesamiento de Datos\n",
    "Objetivo: Practicar el uso de bucles para procesar datos"
   ]
  },
  {
   "cell_type": "markdown",
   "id": "8ac38bc4",
   "metadata": {},
   "source": [
    "La función debe:\n",
    "1. Calcular el total de ventas\n",
    "2. Encontrar la venta más alta\n",
    "3. Contar ventas superiores a un umbral"
   ]
  },
  {
   "cell_type": "code",
   "execution_count": 1,
   "id": "a6ed13ba",
   "metadata": {},
   "outputs": [],
   "source": [
    "# Casos de prueba\n",
    "ventas_dia = [100, 200, 50, 300, 150, 80]\n",
    "umbral_alto = 150"
   ]
  },
  {
   "cell_type": "code",
   "execution_count": 6,
   "id": "c081be84",
   "metadata": {},
   "outputs": [],
   "source": [
    "# 1. Inicializar variables para:\n",
    "#    - total_ventas (suma de todas las ventas)\n",
    "#    - venta_maxima (la venta más alta)\n",
    "#    - ventas_altas (contador de ventas > umbral)\n",
    "\n",
    "total_ventas = 0\n",
    "venta_maxima = 0\n",
    "ventas_altas = []"
   ]
  },
  {
   "cell_type": "code",
   "execution_count": 7,
   "id": "bd01c8ce",
   "metadata": {},
   "outputs": [
    {
     "name": "stdout",
     "output_type": "stream",
     "text": [
      "Total de ventas: 880\n",
      "Venta más alta: 300\n",
      "Total de ventas altas: 2\n"
     ]
    }
   ],
   "source": [
    " # 2. Recorrer la lista de ventas y:\n",
    "    #    - Sumar cada venta al total\n",
    "    #    - Actualizar venta_maxima si corresponde\n",
    "    #    - Incrementar ventas_altas si la venta supera el umbral\n",
    "\n",
    "for venta in ventas_dia:\n",
    "    # Calcula el total de ventas\n",
    "    total_ventas += venta \n",
    "    # Valida si venta es mayor que venta maxima y en caso de ser así,\n",
    "    # se asigna el valor de venta a venta_maxima\n",
    "    if venta > venta_maxima:\n",
    "        venta_maxima = venta\n",
    "    # Valida si venta es igual a superior a umbral_alto,\n",
    "    # en caso de ser así, venta se añade a la lista ventas_altas\n",
    "    if venta > umbral_alto:\n",
    "        ventas_altas.append(venta)\n",
    "\n",
    "print(f\"Total de ventas: {total_ventas}\")\n",
    "print(f\"Venta más alta: {venta_maxima}\")\n",
    "print(f\"Total de ventas altas: {len(ventas_altas)}\")"
   ]
  }
 ],
 "metadata": {
  "kernelspec": {
   "display_name": "py3",
   "language": "python",
   "name": "python3"
  },
  "language_info": {
   "codemirror_mode": {
    "name": "ipython",
    "version": 3
   },
   "file_extension": ".py",
   "mimetype": "text/x-python",
   "name": "python",
   "nbconvert_exporter": "python",
   "pygments_lexer": "ipython3",
   "version": "3.12.3"
  }
 },
 "nbformat": 4,
 "nbformat_minor": 5
}
