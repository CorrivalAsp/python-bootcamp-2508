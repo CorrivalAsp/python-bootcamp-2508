{
 "cells": [
  {
   "cell_type": "markdown",
   "id": "f424c887",
   "metadata": {},
   "source": [
    "# Iteraciones y ciclos"
   ]
  },
  {
   "cell_type": "code",
   "execution_count": null,
   "id": "c91d8910",
   "metadata": {},
   "outputs": [],
   "source": []
  }
 ],
 "metadata": {
  "language_info": {
   "name": "python"
  }
 },
 "nbformat": 4,
 "nbformat_minor": 5
}
