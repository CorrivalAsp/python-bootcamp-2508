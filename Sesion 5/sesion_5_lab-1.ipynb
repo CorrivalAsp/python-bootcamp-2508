{
 "cells": [
  {
   "cell_type": "markdown",
   "id": "8994f5bd",
   "metadata": {},
   "source": [
    "# Sesión 5- Laboratorio 1: Calculadora de Precios\n",
    "Objetivo: Practicar la creación de funciones básicas\n",
    "\n",
    "La función debe:\n",
    "1. Calcular el precio final con IVA\n",
    "2. Aplicar descuento si corresponde\n",
    "3. Validar que los valores sean positivos"
   ]
  },
  {
   "cell_type": "code",
   "execution_count": null,
   "id": "a8fe85db",
   "metadata": {},
   "outputs": [],
   "source": [
    "def calcular_precio_final(precio_base, cantidad, descuento=0):\n",
    "    \"\"\"\n",
    "    Calcula el precio final de una compra incluyendo IVA y descuento\n",
    "    Args:\n",
    "        precio_base (float): Precio unitario del producto\n",
    "        cantidad (int): Cantidad de unidades\n",
    "        descuento (float): Porcentaje de descuento (0-1)\n",
    "    Returns:\n",
    "        float: Precio final después de IVA y descuento\n",
    "    \"\"\"\n",
    "    # TODO: Implementar el cálculo siguiendo estos pasos:\n",
    "    # 1. Validar que precio_base y cantidad sean positivos\n",
    "    # 2. Validar que descuento esté entre 0 y 1\n",
    "    # 3. En caso de que fallen las validaciones, regresar None\n",
    "    # 4. Calcular subtotal (precio_base * cantidad)\n",
    "    # 5. Aplicar descuento si existe\n",
    "    # 6. Agregar IVA (19%)"
   ]
  },
  {
   "cell_type": "code",
   "execution_count": null,
   "id": "45f68fd6",
   "metadata": {},
   "outputs": [],
   "source": [
    "def main():\n",
    "    # Casos de prueba\n",
    "    print(\"=== Calculadora de Precios ===\")\n",
    "    \n",
    "    # Caso 1: Sin descuento\n",
    "    precio1 = calcular_precio_final(100, 2)\n",
    "    print(f\"\\nCaso 1 - Precio base: $100, Cantidad: 2\")\n",
    "    print(f\"Precio final: ${precio1}\")\n",
    "    \n",
    "    # Caso 2: Con descuento\n",
    "    precio2 = calcular_precio_final(100, 2, 0.1)\n",
    "    print(f\"\\nCaso 2 - Precio base: $100, Cantidad: 2, Descuento: 10%\")\n",
    "    print(f\"Precio final: ${precio2}\")"
   ]
  },
  {
   "cell_type": "code",
   "execution_count": null,
   "id": "61b15f57",
   "metadata": {},
   "outputs": [],
   "source": [
    "if __name__ == \"__main__\":\n",
    "    main()"
   ]
  },
  {
   "cell_type": "code",
   "execution_count": null,
   "id": "a9c5a357",
   "metadata": {},
   "outputs": [],
   "source": []
  }
 ],
 "metadata": {
  "kernelspec": {
   "display_name": "base",
   "language": "python",
   "name": "python3"
  },
  "language_info": {
   "codemirror_mode": {
    "name": "ipython",
    "version": 3
   },
   "file_extension": ".py",
   "mimetype": "text/x-python",
   "name": "python",
   "nbconvert_exporter": "python",
   "pygments_lexer": "ipython3",
   "version": "3.13.5"
  }
 },
 "nbformat": 4,
 "nbformat_minor": 5
}
