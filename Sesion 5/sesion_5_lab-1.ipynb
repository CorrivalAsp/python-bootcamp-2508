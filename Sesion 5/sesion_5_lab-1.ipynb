{
 "cells": [
  {
   "cell_type": "markdown",
   "id": "8994f5bd",
   "metadata": {},
   "source": [
    "# Sesión 5- Laboratorio 1: Calculadora de Precios\n",
    "Objetivo: Practicar la creación de funciones básicas\n",
    "\n",
    "La función debe:\n",
    "1. Calcular el precio final con IVA\n",
    "2. Aplicar descuento si corresponde\n",
    "3. Validar que los valores sean positivos"
   ]
  },
  {
   "cell_type": "code",
   "execution_count": null,
   "id": "a8fe85db",
   "metadata": {},
   "outputs": [],
   "source": [
    "def calcular_precio_final(precio_base, cantidad, descuento=0):\n",
    "    \"\"\"\n",
    "    Calcula el precio final de una compra incluyendo IVA y descuento\n",
    "    Args:\n",
    "        precio_base (float): Precio unitario del producto\n",
    "        cantidad (int): Cantidad de unidades\n",
    "        descuento (float): Porcentaje de descuento (0-1)\n",
    "    Returns:\n",
    "        float: Precio final después de IVA y descuento\n",
    "    \"\"\"\n",
    "    # TODO: Implementar el cálculo siguiendo estos pasos:\n",
    "    # 1. Validar que precio_base y cantidad sean positivos\n",
    "    # 2. Validar que descuento esté entre 0 y 1\n",
    "    # 3. En caso de que fallen las validaciones, regresar None\n",
    "    # 4. Calcular subtotal (precio_base * cantidad)\n",
    "    # 5. Aplicar descuento si existe\n",
    "    # 6. Agregar IVA (19%)\n",
    "    "
   ]
  },
  {
   "cell_type": "code",
   "execution_count": null,
   "id": "403b9ce5",
   "metadata": {},
   "outputs": [],
   "source": [
    "# Caso 1: Sin descuento\n",
    "precio1 = calcular_precio_final(100, 2)\n",
    "print(f\"\\nCaso 1 - Precio base: $100, Cantidad: 2\")\n",
    "print(f\"Precio final: ${precio1}\")"
   ]
  },
  {
   "cell_type": "code",
   "execution_count": null,
   "id": "b0aeb8cf",
   "metadata": {},
   "outputs": [],
   "source": [
    "# Caso 2: Con descuento\n",
    "precio2 = calcular_precio_final(100, 2, 0.1)\n",
    "print(f\"\\nCaso 2 - Precio base: $100, Cantidad: 2, Descuento: 10%\")\n",
    "print(f\"Precio final: ${precio2}\")"
   ]
  }
 ],
 "metadata": {
  "language_info": {
   "name": "python"
  }
 },
 "nbformat": 4,
 "nbformat_minor": 5
}
