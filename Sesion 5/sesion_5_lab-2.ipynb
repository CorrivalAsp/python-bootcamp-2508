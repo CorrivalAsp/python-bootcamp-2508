{
 "cells": [
  {
   "cell_type": "markdown",
   "id": "0e103d81",
   "metadata": {},
   "source": [
    "# Sesión 5- Laboratorio 2: Procesador de Ventas\n",
    "Objetivo: Practicar funciones avanzadas y manipulación de datos\n",
    "\n",
    "La función debe:\n",
    "1. Procesar una lista de ventas con args\n",
    "2. Aplicar diferentes análisis según kwargs\n",
    "3. Retornar un diccionario con los resultados"
   ]
  },
  {
   "cell_type": "code",
   "execution_count": null,
   "id": "8baea005",
   "metadata": {},
   "outputs": [],
   "source": [
    "def procesar_ventas(*args, **kwargs):\n",
    "    \"\"\"\n",
    "    Procesa una lista de ventas y realiza análisis según los parámetros\n",
    "    Args:\n",
    "        *args: Lista de montos de ventas\n",
    "        **kwargs: Opciones de análisis (calcular_total, encontrar_maximo, etc.)\n",
    "    Returns:\n",
    "        dict: Resultados de los análisis solicitados\n",
    "    Raises:\n",
    "        NotImplementedError: Cuando el estudiante aún no implementa\n",
    "    \"\"\"\n",
    "    # TODO: Implementar el procesamiento siguiendo estos pasos:\n",
    "    # 1. Validar que haya ventas para procesar\n",
    "    # 2. Crear diccionario para resultados\n",
    "    # 3. Si kwargs['calcular_total']: calcular suma total\n",
    "    # 4. Si kwargs['encontrar_maximo']: encontrar venta máxima\n",
    "    # 5. Si kwargs['contar_superiores']: contar ventas > umbral\n",
    "    if args:\n",
    "        resultado = {}\n",
    "        if 'calcular_total' in kwargs and kwargs['calcular_total']:\n",
    "            resultado[\"suma total\"] = sum(args)\n",
    "        if 'encontrar_maximo' in kwargs and kwargs['encontrar_maximo']:\n",
    "            resultado[\"venta máxima\"] = max(args)\n",
    "        if 'contar_superiores' in kwargs and kwargs['contar_superiores'] and 'umbral' in kwargs:\n",
    "             resultado[\"ventas sobre el umbral\"] = len([venta for venta in args if venta >= kwargs['umbral']])\n",
    "        return resultado\n",
    "    else:\n",
    "        return {\"error\": \"No hay ventas para procesar\"}\n",
    "\n",
    "\n",
    "    "
   ]
  },
  {
   "cell_type": "code",
   "execution_count": 5,
   "id": "422522ce",
   "metadata": {},
   "outputs": [],
   "source": [
    "def main():\n",
    "    # Casos de prueba\n",
    "    ventas = [100, 200, 300, 150, 250]\n",
    "    \n",
    "    print(\"=== Procesador de Ventas ===\")\n",
    "    print(f\"Ventas a procesar: {ventas}\")\n",
    "    \n",
    "    # Caso 1: Calcular total y máximo\n",
    "    resultado1 = procesar_ventas(*ventas, calcular_total=True, encontrar_maximo=True)\n",
    "    print(\"\\nCaso 1 - Total y Máximo:\")\n",
    "    print(f\"Resultados: {resultado1}\")\n",
    "    \n",
    "    # Caso 2: Contar ventas superiores\n",
    "    resultado2 = procesar_ventas(*ventas, contar_superiores=True, umbral=200)\n",
    "    print(\"\\nCaso 2 - Ventas superiores a $200:\")\n",
    "    print(f\"Resultados: {resultado2}\")"
   ]
  },
  {
   "cell_type": "code",
   "execution_count": 6,
   "id": "ad97cdc3",
   "metadata": {},
   "outputs": [
    {
     "name": "stdout",
     "output_type": "stream",
     "text": [
      "=== Procesador de Ventas ===\n",
      "Ventas a procesar: [100, 200, 300, 150, 250]\n"
     ]
    },
    {
     "ename": "KeyError",
     "evalue": "'contar_superiores'",
     "output_type": "error",
     "traceback": [
      "\u001b[31m---------------------------------------------------------------------------\u001b[39m",
      "\u001b[31mKeyError\u001b[39m                                  Traceback (most recent call last)",
      "\u001b[36mCell\u001b[39m\u001b[36m \u001b[39m\u001b[32mIn[6]\u001b[39m\u001b[32m, line 2\u001b[39m\n\u001b[32m      1\u001b[39m \u001b[38;5;28;01mif\u001b[39;00m \u001b[34m__name__\u001b[39m == \u001b[33m\"\u001b[39m\u001b[33m__main__\u001b[39m\u001b[33m\"\u001b[39m:\n\u001b[32m----> \u001b[39m\u001b[32m2\u001b[39m     \u001b[43mmain\u001b[49m\u001b[43m(\u001b[49m\u001b[43m)\u001b[49m\n",
      "\u001b[36mCell\u001b[39m\u001b[36m \u001b[39m\u001b[32mIn[5]\u001b[39m\u001b[32m, line 9\u001b[39m, in \u001b[36mmain\u001b[39m\u001b[34m()\u001b[39m\n\u001b[32m      6\u001b[39m \u001b[38;5;28mprint\u001b[39m(\u001b[33mf\u001b[39m\u001b[33m\"\u001b[39m\u001b[33mVentas a procesar: \u001b[39m\u001b[38;5;132;01m{\u001b[39;00mventas\u001b[38;5;132;01m}\u001b[39;00m\u001b[33m\"\u001b[39m)\n\u001b[32m      8\u001b[39m \u001b[38;5;66;03m# Caso 1: Calcular total y máximo\u001b[39;00m\n\u001b[32m----> \u001b[39m\u001b[32m9\u001b[39m resultado1 = \u001b[43mprocesar_ventas\u001b[49m\u001b[43m(\u001b[49m\u001b[43m*\u001b[49m\u001b[43mventas\u001b[49m\u001b[43m,\u001b[49m\u001b[43m \u001b[49m\u001b[43mcalcular_total\u001b[49m\u001b[43m=\u001b[49m\u001b[38;5;28;43;01mTrue\u001b[39;49;00m\u001b[43m,\u001b[49m\u001b[43m \u001b[49m\u001b[43mencontrar_maximo\u001b[49m\u001b[43m=\u001b[49m\u001b[38;5;28;43;01mTrue\u001b[39;49;00m\u001b[43m)\u001b[49m\n\u001b[32m     10\u001b[39m \u001b[38;5;28mprint\u001b[39m(\u001b[33m\"\u001b[39m\u001b[38;5;130;01m\\n\u001b[39;00m\u001b[33mCaso 1 - Total y Máximo:\u001b[39m\u001b[33m\"\u001b[39m)\n\u001b[32m     11\u001b[39m \u001b[38;5;28mprint\u001b[39m(\u001b[33mf\u001b[39m\u001b[33m\"\u001b[39m\u001b[33mResultados: \u001b[39m\u001b[38;5;132;01m{\u001b[39;00mresultado1\u001b[38;5;132;01m}\u001b[39;00m\u001b[33m\"\u001b[39m)\n",
      "\u001b[36mCell\u001b[39m\u001b[36m \u001b[39m\u001b[32mIn[4]\u001b[39m\u001b[32m, line 24\u001b[39m, in \u001b[36mprocesar_ventas\u001b[39m\u001b[34m(*args, **kwargs)\u001b[39m\n\u001b[32m     22\u001b[39m \u001b[38;5;28;01mif\u001b[39;00m kwargs[\u001b[33m'\u001b[39m\u001b[33mencontrar_maximo\u001b[39m\u001b[33m'\u001b[39m]:\n\u001b[32m     23\u001b[39m     resultado[\u001b[33m\"\u001b[39m\u001b[33mventa máxima\u001b[39m\u001b[33m\"\u001b[39m] = \u001b[38;5;28mmax\u001b[39m(args)\n\u001b[32m---> \u001b[39m\u001b[32m24\u001b[39m \u001b[38;5;28;01mif\u001b[39;00m \u001b[43mkwargs\u001b[49m\u001b[43m[\u001b[49m\u001b[33;43m'\u001b[39;49m\u001b[33;43mcontar_superiores\u001b[39;49m\u001b[33;43m'\u001b[39;49m\u001b[43m]\u001b[49m \u001b[38;5;129;01mand\u001b[39;00m \u001b[33m'\u001b[39m\u001b[33mumbral\u001b[39m\u001b[33m'\u001b[39m \u001b[38;5;129;01min\u001b[39;00m kwargs:\n\u001b[32m     25\u001b[39m      resultado[\u001b[33m\"\u001b[39m\u001b[33mventas sobre el umbral\u001b[39m\u001b[33m\"\u001b[39m] = \u001b[38;5;28mlen\u001b[39m([venta \u001b[38;5;28;01mfor\u001b[39;00m venta \u001b[38;5;129;01min\u001b[39;00m args \u001b[38;5;28;01mif\u001b[39;00m venta >= kwargs[\u001b[33m'\u001b[39m\u001b[33mumbral\u001b[39m\u001b[33m'\u001b[39m]])\n\u001b[32m     26\u001b[39m \u001b[38;5;28;01mreturn\u001b[39;00m resultado\n",
      "\u001b[31mKeyError\u001b[39m: 'contar_superiores'"
     ]
    }
   ],
   "source": [
    "if __name__ == \"__main__\":\n",
    "    main()"
   ]
  },
  {
   "cell_type": "code",
   "execution_count": null,
   "id": "bf42617d",
   "metadata": {},
   "outputs": [],
   "source": []
  }
 ],
 "metadata": {
  "kernelspec": {
   "display_name": "Python 3",
   "language": "python",
   "name": "python3"
  },
  "language_info": {
   "codemirror_mode": {
    "name": "ipython",
    "version": 3
   },
   "file_extension": ".py",
   "mimetype": "text/x-python",
   "name": "python",
   "nbconvert_exporter": "python",
   "pygments_lexer": "ipython3",
   "version": "3.12.1"
  }
 },
 "nbformat": 4,
 "nbformat_minor": 5
}
