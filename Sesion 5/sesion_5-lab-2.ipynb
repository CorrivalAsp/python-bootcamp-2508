{
 "cells": [
  {
   "cell_type": "markdown",
   "id": "0e103d81",
   "metadata": {},
   "source": [
    "# Sesión 5- Laboratorio 2: Procesador de Ventas\n",
    "Objetivo: Practicar funciones avanzadas y manipulación de datos\n",
    "\n",
    "La función debe:\n",
    "1. Procesar una lista de ventas con args\n",
    "2. Aplicar diferentes análisis según kwargs\n",
    "3. Retornar un diccionario con los resultados"
   ]
  },
  {
   "cell_type": "code",
   "execution_count": null,
   "id": "8baea005",
   "metadata": {},
   "outputs": [],
   "source": [
    "def procesar_ventas(*args, **kwargs):\n",
    "    \"\"\"\n",
    "    Procesa una lista de ventas y realiza análisis según los parámetros\n",
    "    Args:\n",
    "        *args: Lista de montos de ventas\n",
    "        **kwargs: Opciones de análisis (calcular_total, encontrar_maximo, etc.)\n",
    "    Returns:\n",
    "        dict: Resultados de los análisis solicitados\n",
    "    Raises:\n",
    "        NotImplementedError: Cuando el estudiante aún no implementa\n",
    "    \"\"\"\n",
    "    # TODO: Implementar el procesamiento siguiendo estos pasos:\n",
    "    # 1. Validar que haya ventas para procesar\n",
    "    # 2. Crear diccionario para resultados\n",
    "    # 3. Si kwargs['calcular_total']: calcular suma total\n",
    "    # 4. Si kwargs['encontrar_maximo']: encontrar venta máxima\n",
    "    # 5. Si kwargs['contar_superiores']: contar ventas > umbral\n",
    "    "
   ]
  },
  {
   "cell_type": "code",
   "execution_count": null,
   "id": "0578e43a",
   "metadata": {},
   "outputs": [],
   "source": [
    "# Casos de prueba\n",
    "ventas = [100, 200, 300, 150, 250]\n",
    "    \n",
    "print(\"=== Procesador de Ventas ===\")\n",
    "print(f\"Ventas a procesar: {ventas}\")"
   ]
  },
  {
   "cell_type": "code",
   "execution_count": null,
   "id": "df79fff0",
   "metadata": {},
   "outputs": [],
   "source": [
    "# Caso 1: Calcular total y máximo\n",
    "resultado1 = procesar_ventas(*ventas, calcular_total=True, encontrar_maximo=True)\n",
    "print(\"\\nCaso 1 - Total y Máximo:\")\n",
    "print(f\"Resultados: {resultado1}\")"
   ]
  },
  {
   "cell_type": "code",
   "execution_count": null,
   "id": "79edc907",
   "metadata": {},
   "outputs": [],
   "source": [
    "# Caso 2: Contar ventas superiores\n",
    "resultado2 = procesar_ventas(*ventas, contar_superiores=True, umbral=200)\n",
    "print(\"\\nCaso 2 - Ventas superiores a $200:\")\n",
    "print(f\"Resultados: {resultado2}\")"
   ]
  },
  {
   "cell_type": "code",
   "execution_count": null,
   "id": "422522ce",
   "metadata": {},
   "outputs": [],
   "source": []
  }
 ],
 "metadata": {
  "kernelspec": {
   "display_name": "base",
   "language": "python",
   "name": "python3"
  },
  "language_info": {
   "codemirror_mode": {
    "name": "ipython",
    "version": 3
   },
   "file_extension": ".py",
   "mimetype": "text/x-python",
   "name": "python",
   "nbconvert_exporter": "python",
   "pygments_lexer": "ipython3",
   "version": "3.13.5"
  }
 },
 "nbformat": 4,
 "nbformat_minor": 5
}
