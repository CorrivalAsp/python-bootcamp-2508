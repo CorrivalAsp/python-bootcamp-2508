{
 "cells": [
  {
   "cell_type": "markdown",
   "id": "255c065a",
   "metadata": {},
   "source": [
    "# Sesión 8 - Demo 1 - Excepciones.\n",
    "\n",
    "El objetivo de esta sesión es aprender a manejar errores y depurar código en Python. A continuación, se presentan ejemplos prácticos y técnicas para identificar y solucionar problemas en el código."
   ]
  },
  {
   "cell_type": "markdown",
   "id": "fea6ccc2",
   "metadata": {},
   "source": [
    "## Excepciones en Python.\n",
    "\n",
    "En Python, las excepciones son eventos que ocurren durante la ejecución de un programa y que interrumpen su flujo normal. Cuando ocurre una excepción, Python genera un objeto de excepción que contiene información sobre el error. Algunas excepciones comunes incluyen `ZeroDivisionError`, `ValueError`, `TypeError`, entre otras."
   ]
  },
  {
   "cell_type": "markdown",
   "id": "0b69be5a",
   "metadata": {
    "vscode": {
     "languageId": "plaintext"
    }
   },
   "source": [
    "## Gestión de excepciones.\n",
    "\n",
    "Es común que ciertos segmentos de código puedan generar errores. Python permite delimitar dichos segmentos y correr flujos de ejecución capaces de gestionar las excepciones conforme a su naturaleza y contenido.\n",
    "\n",
    "La estructura básica para manejar excepciones en Python es mediante las palabras clave `try`, `except`, `else` y `finally`.\n",
    "\n",
    "```python\n",
    "try:\n",
    "    <código que puede generar una excepción>\n",
    "except <TipoDeExcepción>:\n",
    "    <código para manejar la excepción>\n",
    "else:\n",
    "    <código que se ejecuta si no hubo excepción>\n",
    "finally:\n",
    "    <código que se ejecuta siempre, haya o no excepción>\n",
    "```\n",
    "Donde:\n",
    "- `try`: Bloque donde se coloca el código que puede generar una excepción.\n",
    "- `except`: Bloque donde se maneja la excepción específica.\n",
    "- `else`: Bloque que se ejecuta si no hubo ninguna excepción en el bloque `try`.\n",
    "- `finally`: Bloque que se ejecuta siempre, independientemente de si hubo o no una excepción.\n",
    "\n",
    "Es posible definir múltiples bloques `except` para manejar diferentes tipos de excepciones."
   ]
  },
  {
   "cell_type": "markdown",
   "id": "1c819fc8",
   "metadata": {},
   "source": [
    "La siguiente función contiene un segmento de código propenso a generar una excepción."
   ]
  },
  {
   "cell_type": "code",
   "execution_count": null,
   "id": "6d594947",
   "metadata": {},
   "outputs": [],
   "source": [
    "def funcion_division(a=1, b=1):\n",
    "    '''Función que regresa la divisón entre a y b'''\n",
    "    div =  a / b\n",
    "    print('Se realizó la división correctamente')\n",
    "    return div\n"
   ]
  },
  {
   "cell_type": "code",
   "execution_count": null,
   "id": "d2fe3bc7",
   "metadata": {},
   "outputs": [],
   "source": [
    "funcion_division(b=0)"
   ]
  },
  {
   "cell_type": "code",
   "execution_count": null,
   "id": "5db65c8e",
   "metadata": {},
   "outputs": [],
   "source": [
    "funcion_division(b='Hola')"
   ]
  },
  {
   "cell_type": "markdown",
   "id": "340fc729",
   "metadata": {},
   "source": [
    "## Gestión básica de excepciones."
   ]
  },
  {
   "cell_type": "code",
   "execution_count": null,
   "id": "02c8e59e",
   "metadata": {},
   "outputs": [],
   "source": [
    "def funcion_division(a=1, b=1):\n",
    "    '''Función que regresa la divisón entre a y b'''\n",
    "    try: \n",
    "        div =  a / b\n",
    "    except:\n",
    "        '''Se deja correr lq excepción sin gestionarla'''\n",
    "        pass\n",
    "    print('Se realizó la división correctamente')\n",
    "    '''El error se propagó.'''\n",
    "    return div\n"
   ]
  },
  {
   "cell_type": "code",
   "execution_count": null,
   "id": "7f214113",
   "metadata": {},
   "outputs": [],
   "source": [
    "funcion_division(b=0)"
   ]
  },
  {
   "cell_type": "code",
   "execution_count": null,
   "id": "d5b4f037",
   "metadata": {},
   "outputs": [],
   "source": [
    "def funcion_division(a=1, b=1):\n",
    "    '''Función que regresa la divisón entre a y b'''\n",
    "    try: \n",
    "        div =  a / b\n",
    "    except:\n",
    "        '''Se gestionan las excepciones.'''\n",
    "        print('Ocurrió una excepción.')\n",
    "        div = False\n",
    "    print('Se realizó la división correctamente.')\n",
    "    '''El error no se propagó.'''\n",
    "    return div"
   ]
  },
  {
   "cell_type": "code",
   "execution_count": null,
   "id": "f9da45d1",
   "metadata": {},
   "outputs": [],
   "source": [
    "print(funcion_division(b=0))"
   ]
  },
  {
   "cell_type": "code",
   "execution_count": null,
   "id": "cf994bfa",
   "metadata": {},
   "outputs": [],
   "source": [
    "def funcion_division(a=1, b=1):\n",
    "    '''Función que regresa la divisón entre a y b'''\n",
    "    try: \n",
    "        div =  a / b\n",
    "    except TypeError as e:\n",
    "        '''Se gestionan las excepciones de tipo TypeError\n",
    "        y el mensaje de error se guarda en la variable e.'''\n",
    "        print(f'Ocurrió una excepción de tipo de datos: {e}')\n",
    "        div = False\n",
    "    print('Ejecución terminada.')\n",
    "    '''El error no se propagó.'''\n",
    "    return div"
   ]
  },
  {
   "cell_type": "code",
   "execution_count": null,
   "id": "99c7a4d8",
   "metadata": {},
   "outputs": [],
   "source": [
    "print(funcion_division(b='Hola'))"
   ]
  },
  {
   "cell_type": "code",
   "execution_count": null,
   "id": "ad0e6f75",
   "metadata": {},
   "outputs": [],
   "source": [
    "def funcion_division(a=1, b=1):\n",
    "    '''Función que regresa la divisón entre a y b'''\n",
    "    try: \n",
    "        div =  a / b\n",
    "\n",
    "    except TypeError as e:\n",
    "        '''Se gestionan las excepciones de tipo TypeError\n",
    "        y el mensaje de error se guarda en la variable e.'''\n",
    "        print(f'Ocurrió una excepción de tipo de datos: {e}')\n",
    "        div = False\n",
    "    else:\n",
    "        '''Se despleiga un mensaje en caso de que ni haya\n",
    "        errores'''\n",
    "        print('OK')\n",
    "    '''El error no se propagó.'''\n",
    "    return div"
   ]
  },
  {
   "cell_type": "code",
   "execution_count": null,
   "id": "5305168f",
   "metadata": {},
   "outputs": [],
   "source": [
    "print(funcion_division(b='Hola'))"
   ]
  },
  {
   "cell_type": "code",
   "execution_count": null,
   "id": "6454d198",
   "metadata": {},
   "outputs": [],
   "source": [
    "print(funcion_division(b=2))"
   ]
  },
  {
   "cell_type": "code",
   "execution_count": null,
   "id": "8040e673",
   "metadata": {},
   "outputs": [],
   "source": [
    "print(funcion_division(b=0))"
   ]
  },
  {
   "cell_type": "code",
   "execution_count": null,
   "id": "ac202c19",
   "metadata": {},
   "outputs": [],
   "source": [
    "def funcion_division(a=1, b=1):\n",
    "    '''Función que regresa la divisón entre a y b'''\n",
    "    try: \n",
    "        div =  a / b\n",
    "\n",
    "    except TypeError as e:\n",
    "        '''Se gestionan las excepciones de tipo TypeError\n",
    "        y el mensaje de error se guarda en la variable e.'''\n",
    "        print(f'Ocurrió una excepción de tipo de datos: {e}')\n",
    "        div = False\n",
    "    except:\n",
    "        '''Se gestionan excepciones no previstas.'''\n",
    "        print(f'Ocurrió una excepción no prevista.')\n",
    "        div = True\n",
    "    else:\n",
    "        '''Se despleiga un mensaje en caso de que ni haya\n",
    "        errores'''\n",
    "        print('OK')\n",
    "    '''El error no se propagó.'''\n",
    "    return div"
   ]
  },
  {
   "cell_type": "code",
   "execution_count": null,
   "id": "6dac7e2e",
   "metadata": {},
   "outputs": [],
   "source": [
    "print(funcion_division(b='Hola'))"
   ]
  },
  {
   "cell_type": "code",
   "execution_count": null,
   "id": "4e00b0df",
   "metadata": {},
   "outputs": [],
   "source": [
    "print(funcion_division(b=0))"
   ]
  },
  {
   "cell_type": "code",
   "execution_count": null,
   "id": "a4dd1d09",
   "metadata": {},
   "outputs": [],
   "source": [
    "print(funcion_division())"
   ]
  },
  {
   "cell_type": "code",
   "execution_count": null,
   "id": "1fecad83",
   "metadata": {},
   "outputs": [],
   "source": [
    "def funcion_division(a=1, b=1):\n",
    "    '''Función que regresa la divisón entre a y b'''\n",
    "    try: \n",
    "        div =  a / b\n",
    "\n",
    "    except TypeError as e:\n",
    "        '''Se gestionan las excepciones de tipo TypeError\n",
    "        y el mensaje de error se guarda en la variable e.'''\n",
    "        print(f'Ocurrió una excepción de tipo de datos: {e}')\n",
    "        div = False\n",
    "    except:\n",
    "        '''Se gestionan excepciones no previstas.'''\n",
    "        print(f'Ocurrió una excepción no prevista.')\n",
    "        div = True\n",
    "    else:\n",
    "        '''Se despleiga un mensaje en caso de que ni haya\n",
    "        errores'''\n",
    "        print('OK')\n",
    "    finally:\n",
    "        '''Este código se ejecuta sin imnportar si ocurre\n",
    "        una excepción o no.'''\n",
    "        print('Fin de ejecución.')\n",
    "\n",
    "    return div"
   ]
  },
  {
   "cell_type": "code",
   "execution_count": null,
   "id": "cadfe21f",
   "metadata": {},
   "outputs": [],
   "source": [
    "print(funcion_division(b='Hola'))"
   ]
  },
  {
   "cell_type": "code",
   "execution_count": null,
   "id": "0ab8ffa3",
   "metadata": {},
   "outputs": [],
   "source": [
    "print(funcion_division(b=0))"
   ]
  },
  {
   "cell_type": "code",
   "execution_count": null,
   "id": "604d80ca",
   "metadata": {},
   "outputs": [],
   "source": [
    "print(funcion_division())"
   ]
  },
  {
   "cell_type": "markdown",
   "id": "dfa99f56",
   "metadata": {},
   "source": [
    "## Levantamiento de una excepción personalizada con `raise`.\n",
    "\n",
    "Es posible levantar una excepción personalizada utilizando la palabra clave `raise`. Esto es útil cuando se desea indicar que ha ocurrido una situación excepcional en el código.\n",
    "\n",
    "```python\n",
    "raise <TipoDeExcepción>(<mensaje>)\n",
    "```\n",
    "Donde:\n",
    "- `<TipoDeExcepción>`: Tipo de excepción que se desea levantar.\n",
    "- `<mensaje>`: Mensaje opcional que describe la excepción."
   ]
  },
  {
   "cell_type": "code",
   "execution_count": null,
   "id": "010a2905",
   "metadata": {},
   "outputs": [],
   "source": [
    "def funcion_division(a=1, b=1):\n",
    "    '''Función que regresa la divisón entre a y b'''\n",
    "    if b == 0:\n",
    "      raise ZeroDivisionError(\"El número 0 no está soportado.\")\n",
    "    div =  a / b\n",
    "    return div"
   ]
  },
  {
   "cell_type": "code",
   "execution_count": null,
   "id": "30080f75",
   "metadata": {},
   "outputs": [],
   "source": [
    "funcion_division(b=0)"
   ]
  },
  {
   "cell_type": "code",
   "execution_count": null,
   "id": "722ef688",
   "metadata": {},
   "outputs": [],
   "source": []
  },
  {
   "cell_type": "markdown",
   "id": "98e3163e",
   "metadata": {},
   "source": [
    "### La palabra clave `assert` \n",
    "\n",
    "La palabra clave ```assert``` levanta una excepción de tipo `AssertionError` cuando unca condición no es `True`. \n",
    "\n",
    "```\n",
    "assert <condición>,  <mensaje>\n",
    "```\n",
    "Donde:\n",
    "\n",
    "* `<condición>` es una condición lógica.\n",
    "* `<mensaje>` es una cadena de caracteres con un mensaje opcional que será la descripción de la excepción."
   ]
  },
  {
   "cell_type": "code",
   "execution_count": null,
   "id": "60c7cab2",
   "metadata": {},
   "outputs": [],
   "source": [
    "def funcion_division(a=1, b=1):\n",
    "    '''Función que regresa la divisón entre a y b'''\n",
    "    assert a == 4, \"La variable debe ser 4\"\n",
    "    if b == 0:\n",
    "      raise ZeroDivisionError(\"El número 0 no está soportado.\")\n",
    "    div =  a / b\n",
    "    return div"
   ]
  },
  {
   "cell_type": "code",
   "execution_count": null,
   "id": "25bb48da",
   "metadata": {},
   "outputs": [],
   "source": [
    "funcion_division(3)"
   ]
  },
  {
   "cell_type": "code",
   "execution_count": null,
   "id": "e9f53c83",
   "metadata": {},
   "outputs": [],
   "source": []
  }
 ],
 "metadata": {
  "kernelspec": {
   "display_name": "Python 3",
   "language": "python",
   "name": "python3"
  },
  "language_info": {
   "codemirror_mode": {
    "name": "ipython",
    "version": 3
   },
   "file_extension": ".py",
   "mimetype": "text/x-python",
   "name": "python",
   "nbconvert_exporter": "python",
   "pygments_lexer": "ipython3",
   "version": "3.12.1"
  }
 },
 "nbformat": 4,
 "nbformat_minor": 5
}
