{
 "cells": [
  {
   "cell_type": "markdown",
   "id": "e2f00f57",
   "metadata": {
    "vscode": {
     "languageId": "plaintext"
    }
   },
   "source": [
    "# Demo 1: Introducción a Clases y Objetos\n",
    "\n",
    "Objetivo: Mostrar los conceptos básicos de la programación orientada a objetos\n",
    "en Python mediante un ejemplo de productos en un e-commerce.\n",
    "\"\"\"\n",
    "\n",
    "\n",
    "    demo_clases()"
   ]
  },
  {
   "cell_type": "markdown",
   "id": "3dd2dff0",
   "metadata": {},
   "source": [
    "## Todo es un objeto en Python.\n",
    "\n",
    "Aún cuando Python soporta diversos paradigmas de progranación,Todos los tipos de datos son instamcias de `object`"
   ]
  },
  {
   "cell_type": "markdown",
   "id": "c182adbf",
   "metadata": {},
   "source": [
    "* La función `isinstance()` valida si el primer argumento es instancia del segundo argumento."
   ]
  },
  {
   "cell_type": "code",
   "execution_count": 3,
   "id": "d55a1909",
   "metadata": {},
   "outputs": [
    {
     "data": {
      "text/plain": [
       "True"
      ]
     },
     "execution_count": 3,
     "metadata": {},
     "output_type": "execute_result"
    }
   ],
   "source": [
    "isinstance(1,int)"
   ]
  },
  {
   "cell_type": "code",
   "execution_count": 4,
   "id": "458c3df1",
   "metadata": {},
   "outputs": [
    {
     "data": {
      "text/plain": [
       "True"
      ]
     },
     "execution_count": 4,
     "metadata": {},
     "output_type": "execute_result"
    }
   ],
   "source": [
    "isinstance(1, object)"
   ]
  },
  {
   "cell_type": "markdown",
   "id": "418b0e5f",
   "metadata": {},
   "source": [
    "## Estructura de una clase.\n",
    "Las clases se componen de atributos."
   ]
  },
  {
   "cell_type": "code",
   "execution_count": null,
   "id": "201780bf",
   "metadata": {},
   "outputs": [],
   "source": [
    "class Producto:\n",
    "    \"\"\"\n",
    "    Clase que representa un producto en una tienda online.\n",
    "    Demuestra conceptos básicos de POO: atributos, métodos, constructor.\n",
    "    \"\"\"\n",
    "    \n",
    "    def __init__(self, codigo, nombre, precio, stock=0):\n",
    "        \"\"\"Constructor de la clase\"\"\"\n",
    "        self.codigo = codigo\n",
    "        self.nombre = nombre\n",
    "        self.precio = precio\n",
    "        self.stock = stock\n",
    "    \n",
    "    def mostrar_info(self):\n",
    "        \"\"\"Muestra la información del producto\"\"\"\n",
    "        return f\"Producto: {self.nombre} (SKU: {self.codigo}) - ${self.precio}\"\n",
    "    \n",
    "    def actualizar_stock(self, cantidad):\n",
    "        \"\"\"Actualiza el stock del producto\"\"\"\n",
    "        self.stock += cantidad\n",
    "        return f\"Stock actualizado. Nuevo stock: {self.stock}\"\n",
    "    \n",
    "    def esta_disponible(self):\n",
    "        \"\"\"Verifica si el producto tiene stock disponible\"\"\"\n",
    "        return self.stock > 0\n",
    "\n",
    "def demo_clases():\n",
    "    print(\"=== Demo: Clases y Objetos en Python ===\")\n",
    "    \n",
    "    # Ejemplo 1: Crear instancias de la clase\n",
    "    print(\"\\n1. Creando productos:\")\n",
    "    laptop = Producto(\"LAP001\", \"Laptop Pro\", 1200, 5)\n",
    "    smartphone = Producto(\"CEL001\", \"Smartphone X\", 800)\n",
    "    \n",
    "    # Ejemplo 2: Usar métodos de la clase\n",
    "    print(\"\\n2. Información de productos:\")\n",
    "    print(laptop.mostrar_info())\n",
    "    print(smartphone.mostrar_info())\n",
    "    \n",
    "    # Ejemplo 3: Manipular objetos\n",
    "    print(\"\\n3. Actualizando stock:\")\n",
    "    print(f\"Stock inicial laptop: {laptop.stock}\")\n",
    "    print(laptop.actualizar_stock(3))\n",
    "    print(f\"¿Laptop disponible?: {laptop.esta_disponible()}\")\n",
    "    print(f\"¿Smartphone disponible?: {smartphone.esta_disponible()}\")\n",
    "\n",
    "if __name__ == \"__main__\":"
   ]
  }
 ],
 "metadata": {
  "kernelspec": {
   "display_name": "Python 3",
   "language": "python",
   "name": "python3"
  },
  "language_info": {
   "codemirror_mode": {
    "name": "ipython",
    "version": 3
   },
   "file_extension": ".py",
   "mimetype": "text/x-python",
   "name": "python",
   "nbconvert_exporter": "python",
   "pygments_lexer": "ipython3",
   "version": "3.12.1"
  }
 },
 "nbformat": 4,
 "nbformat_minor": 5
}
